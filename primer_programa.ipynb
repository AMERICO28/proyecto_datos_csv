{
 "cells": [
  {
   "cell_type": "code",
   "execution_count": 1,
   "id": "b8c3bbd3-fce4-4944-bab0-d5fd44056778",
   "metadata": {},
   "outputs": [
    {
     "name": "stdout",
     "output_type": "stream",
     "text": [
      "    Nombre  Edad\n",
      "0  Americo    33\n",
      "1     Juan    29\n",
      "2    Lucía    25\n"
     ]
    }
   ],
   "source": [
    "import pandas as pd\n",
    "\n",
    "# Datos de ejemplo\n",
    "nombres = [\"Americo\", \"Juan\", \"Lucía\"]\n",
    "edades = [33, 29, 25]\n",
    "\n",
    "# Crear DataFrame\n",
    "df = pd.DataFrame({\"Nombre\": nombres, \"Edad\": edades})\n",
    "\n",
    "# Mostrar DataFrame\n",
    "print(df)\n",
    "\n",
    "# Guardar a archivo CSV\n",
    "df.to_csv(\"datos_guardados.csv\", index=False)\n"
   ]
  },
  {
   "cell_type": "code",
   "execution_count": null,
   "id": "f96925f5-bca4-4f8e-a664-14da6a927228",
   "metadata": {},
   "outputs": [],
   "source": []
  }
 ],
 "metadata": {
  "kernelspec": {
   "display_name": "anaconda-ai-2024.04-py310",
   "language": "python",
   "name": "conda-env-anaconda-ai-2024.04-py310-py"
  },
  "language_info": {
   "codemirror_mode": {
    "name": "ipython",
    "version": 3
   },
   "file_extension": ".py",
   "mimetype": "text/x-python",
   "name": "python",
   "nbconvert_exporter": "python",
   "pygments_lexer": "ipython3",
   "version": "3.10.13"
  }
 },
 "nbformat": 4,
 "nbformat_minor": 5
}
